{
  "nbformat": 4,
  "nbformat_minor": 0,
  "metadata": {
    "colab": {
      "provenance": []
    },
    "kernelspec": {
      "name": "python3",
      "display_name": "Python 3"
    },
    "language_info": {
      "name": "python"
    }
  },
  "cells": [
    {
      "cell_type": "code",
      "execution_count": 67,
      "metadata": {
        "colab": {
          "base_uri": "https://localhost:8080/"
        },
        "id": "HeD8_FI8fFUn",
        "outputId": "09d74953-bc9e-4a7b-e260-19bed9965068"
      },
      "outputs": [
        {
          "output_type": "stream",
          "name": "stdout",
          "text": [
            "Python 3.8.16\n"
          ]
        }
      ],
      "source": [
        "!python3 --version"
      ]
    },
    {
      "cell_type": "code",
      "source": [
        "!pip3 install pytelegrambotapi"
      ],
      "metadata": {
        "colab": {
          "base_uri": "https://localhost:8080/"
        },
        "id": "jcpcMwqKhZHJ",
        "outputId": "e2315c9e-ddc6-410f-a343-b6b75c003612"
      },
      "execution_count": 68,
      "outputs": [
        {
          "output_type": "stream",
          "name": "stdout",
          "text": [
            "Looking in indexes: https://pypi.org/simple, https://us-python.pkg.dev/colab-wheels/public/simple/\n",
            "Requirement already satisfied: pytelegrambotapi in /usr/local/lib/python3.8/dist-packages (4.8.0)\n",
            "Requirement already satisfied: requests in /usr/local/lib/python3.8/dist-packages (from pytelegrambotapi) (2.23.0)\n",
            "Requirement already satisfied: idna<3,>=2.5 in /usr/local/lib/python3.8/dist-packages (from requests->pytelegrambotapi) (2.10)\n",
            "Requirement already satisfied: certifi>=2017.4.17 in /usr/local/lib/python3.8/dist-packages (from requests->pytelegrambotapi) (2022.9.24)\n",
            "Requirement already satisfied: urllib3!=1.25.0,!=1.25.1,<1.26,>=1.21.1 in /usr/local/lib/python3.8/dist-packages (from requests->pytelegrambotapi) (1.24.3)\n",
            "Requirement already satisfied: chardet<4,>=3.0.2 in /usr/local/lib/python3.8/dist-packages (from requests->pytelegrambotapi) (3.0.4)\n"
          ]
        }
      ]
    },
    {
      "cell_type": "code",
      "source": [
        "!pip install scikit-learn"
      ],
      "metadata": {
        "colab": {
          "base_uri": "https://localhost:8080/"
        },
        "id": "JDXbtk1km1Ut",
        "outputId": "edf6af70-31c4-418d-f778-167840b86b14"
      },
      "execution_count": 69,
      "outputs": [
        {
          "output_type": "stream",
          "name": "stdout",
          "text": [
            "Looking in indexes: https://pypi.org/simple, https://us-python.pkg.dev/colab-wheels/public/simple/\n",
            "Requirement already satisfied: scikit-learn in /usr/local/lib/python3.8/dist-packages (1.0.2)\n",
            "Requirement already satisfied: numpy>=1.14.6 in /usr/local/lib/python3.8/dist-packages (from scikit-learn) (1.21.6)\n",
            "Requirement already satisfied: scipy>=1.1.0 in /usr/local/lib/python3.8/dist-packages (from scikit-learn) (1.7.3)\n",
            "Requirement already satisfied: threadpoolctl>=2.0.0 in /usr/local/lib/python3.8/dist-packages (from scikit-learn) (3.1.0)\n",
            "Requirement already satisfied: joblib>=0.11 in /usr/local/lib/python3.8/dist-packages (from scikit-learn) (1.2.0)\n"
          ]
        }
      ]
    },
    {
      "cell_type": "code",
      "source": [
        "!pip3 install fuzzywuzzy"
      ],
      "metadata": {
        "colab": {
          "base_uri": "https://localhost:8080/"
        },
        "id": "WKb8X5JUuODW",
        "outputId": "5b344cdc-6f61-4f0f-953a-b2086d5b5f09"
      },
      "execution_count": 70,
      "outputs": [
        {
          "output_type": "stream",
          "name": "stdout",
          "text": [
            "Looking in indexes: https://pypi.org/simple, https://us-python.pkg.dev/colab-wheels/public/simple/\n",
            "Requirement already satisfied: fuzzywuzzy in /usr/local/lib/python3.8/dist-packages (0.18.0)\n"
          ]
        }
      ]
    },
    {
      "cell_type": "code",
      "source": [
        "!pip3 install python-Levenshtein"
      ],
      "metadata": {
        "colab": {
          "base_uri": "https://localhost:8080/"
        },
        "id": "f8AHU8uxuOyk",
        "outputId": "b7d2165c-cd19-4b1e-b75f-0dc3a91430cd"
      },
      "execution_count": 71,
      "outputs": [
        {
          "output_type": "stream",
          "name": "stdout",
          "text": [
            "Looking in indexes: https://pypi.org/simple, https://us-python.pkg.dev/colab-wheels/public/simple/\n",
            "Requirement already satisfied: python-Levenshtein in /usr/local/lib/python3.8/dist-packages (0.20.8)\n",
            "Requirement already satisfied: Levenshtein==0.20.8 in /usr/local/lib/python3.8/dist-packages (from python-Levenshtein) (0.20.8)\n",
            "Requirement already satisfied: rapidfuzz<3.0.0,>=2.3.0 in /usr/local/lib/python3.8/dist-packages (from Levenshtein==0.20.8->python-Levenshtein) (2.13.4)\n"
          ]
        }
      ]
    },
    {
      "cell_type": "code",
      "source": [
        "import telebot, re\n",
        "from sklearn.feature_extraction.text import CountVectorizer\n",
        "from sklearn.linear_model import LogisticRegression\n",
        "from google.colab import drive\n",
        "import os\n",
        "\n",
        "from fuzzywuzzy import fuzz\n",
        "drive.mount('/content/drive')\n",
        "\n",
        "bot = telebot.TeleBot('5723331851:AAE-Cu9E550cozr0_tuEeoKgGDcKOfuG8Cc')\n",
        "\n",
        "# Загружаем список фраз и ответов в массив\n",
        "\n",
        "mas=[]\n",
        "\n",
        "if os.path.exists('/content/drive/MyDrive/dialogue.txt'):\n",
        "\n",
        "    f=open('/content/drive/MyDrive/dialogue.txt', 'r', encoding='UTF-8')\n",
        "\n",
        "    for x in f:\n",
        "\n",
        "        if(len(x.strip()) > 2):\n",
        "\n",
        "            mas.append(x.strip().lower())\n",
        "\n",
        "    f.close()\n",
        "\n",
        "# С помощью fuzzywuzzy определяем наиболее похожую фразу и выдаем в качестве ответа следующий элемент списка\n",
        "\n",
        "def answer(text):\n",
        "\n",
        "    try:\n",
        "\n",
        "        text=text.lower().strip()\n",
        "\n",
        "        if os.path.exists('/content/drive/MyDrive/dialogue.txt'):\n",
        "\n",
        "            a = 0\n",
        "\n",
        "            n = 0\n",
        "\n",
        "            nn = 0\n",
        "\n",
        "            for q in mas:\n",
        "\n",
        "                if('u: ' in q):\n",
        "\n",
        "                    # Изучаем, насколько похожи две строки\n",
        "\n",
        "                    aa=(fuzz.token_sort_ratio(q.replace('u: ',''), text))\n",
        "\n",
        "                    if(aa > a and aa!= a):\n",
        "\n",
        "                        a = aa\n",
        "\n",
        "                        nn = n\n",
        "\n",
        "                n = n + 1\n",
        "\n",
        "            s = mas[nn + 1]\n",
        "\n",
        "            return s\n",
        "\n",
        "        else:\n",
        "\n",
        "            return 'Не смог'\n",
        "\n",
        "    except:\n",
        "\n",
        "        return 'Ошибка'\n",
        "\n",
        "# Команда «Старт»\n",
        "\n",
        "@bot.message_handler(commands=[\"start\"])\n",
        "\n",
        "def start(m, res=False):\n",
        "\n",
        "        bot.send_message(m.chat.id, 'напиши мне Привет!')\n",
        "\n",
        "# Получение сообщений от клиента\n",
        "\n",
        "@bot.message_handler(content_types=[\"text\"])\n",
        "\n",
        "def handle_text(message):\n",
        "\n",
        "    # Запись ответа\n",
        "\n",
        "    s=answer(message.text)\n",
        "\n",
        "    # Отправка ответа\n",
        "\n",
        "    bot.send_message(message.chat.id, s)\n",
        "\n",
        "# Запускаем бота\n",
        "\n",
        "bot.polling(none_stop=True, interval=0)\n",
        "\n",
        "\n"
      ],
      "metadata": {
        "colab": {
          "base_uri": "https://localhost:8080/"
        },
        "id": "eTdiF2jEol_9",
        "outputId": "179eec31-ba5e-4457-c193-db7a2f031822"
      },
      "execution_count": 72,
      "outputs": [
        {
          "output_type": "stream",
          "name": "stdout",
          "text": [
            "Drive already mounted at /content/drive; to attempt to forcibly remount, call drive.mount(\"/content/drive\", force_remount=True).\n"
          ]
        }
      ]
    }
  ]
}